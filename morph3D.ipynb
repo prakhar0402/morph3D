{
 "cells": [
  {
   "cell_type": "raw",
   "metadata": {},
   "source": [
    "#    MAD Lab, University at Buffalo\n",
    "#    Copyright (C) 2018  Prakhar Jaiswal <prakharj@buffalo.edu>\n",
    "#\n",
    "#    This program is free software: you can redistribute it and/or modify\n",
    "#    it under the terms of the GNU General Public License as published by\n",
    "#    the Free Software Foundation, either version 3 of the License, or\n",
    "#    (at your option) any later version.\n",
    "#\n",
    "#    This program is distributed in the hope that it will be useful,\n",
    "#    but WITHOUT ANY WARRANTY; without even the implied warranty of\n",
    "#    MERCHANTABILITY or FITNESS FOR A PARTICULAR PURPOSE.  See the\n",
    "#    GNU General Public License for more details.\n",
    "#\n",
    "#    You should have received a copy of the GNU General Public License\n",
    "#    along with this program.  If not, see <http://www.gnu.org/licenses/>."
   ]
  },
  {
   "cell_type": "code",
   "execution_count": null,
   "metadata": {
    "collapsed": false
   },
   "outputs": [],
   "source": [
    "%gui qt\n",
    "\n",
    "import numpy as np\n",
    "from numpy import *\n",
    "import os.path\n",
    "import subprocess\n",
    "import binvox_rw\n",
    "import fftw3f\n",
    "from mayavi import mlab"
   ]
  },
  {
   "cell_type": "code",
   "execution_count": null,
   "metadata": {
    "collapsed": true
   },
   "outputs": [],
   "source": [
    "def read_voxel(filename):\n",
    "    fid = open(filename, 'r')\n",
    "    model = binvox_rw.read_as_3d_array(fid)\n",
    "    voxel = model.data\n",
    "    return voxel\n",
    "\n",
    "def get_sublevel_set(voxel, level):\n",
    "    return np.nonzero(voxel > 0.9999*level)\n",
    "\n",
    "def get_volume(voxel):\n",
    "    coords = get_sublevel_set(voxel, 1)\n",
    "    return len(coords[0])\n",
    "\n",
    "def get_fourier_transform(voxel):\n",
    "    voxel = voxel.astype('f')\n",
    "    voxel_ft = voxel.astype('F')\n",
    "    trans = fftw3f.Plan(voxel, voxel_ft, direction = 'forward')\n",
    "    trans()\n",
    "    return voxel_ft\n",
    "\n",
    "def get_inverse_fourier_transform(voxel_ft):\n",
    "    voxel = zeros(voxel_ft.shape, dtype = 'f')\n",
    "    trans = fftw3f.Plan(voxel_ft, voxel, direction = 'backward')\n",
    "    trans()\n",
    "    return voxel\n",
    "\n",
    "def get_norm_corr(alpha, beta):\n",
    "    alpha_ft = get_fourier_transform(alpha)\n",
    "    beta_ft = get_fourier_transform(beta)\n",
    "    \n",
    "    corr_ft = alpha_ft * beta_ft\n",
    "    \n",
    "    corr = get_inverse_fourier_transform(corr_ft)\n",
    "    \n",
    "    corr /= prod(corr.shape)\n",
    "    corr = fft.fftshift(corr)\n",
    "    \n",
    "    return corr\n",
    "\n",
    "def minkowski_sum(alpha, beta):\n",
    "    corr = get_norm_corr(alpha, beta)\n",
    "    msum = 1 * (corr > 0.0001*(get_volume(beta)-0.5))\n",
    "    return msum\n",
    "\n",
    "def minkowski_diff(alpha, beta):\n",
    "    corr = get_norm_corr(alpha, beta)\n",
    "    mdiff = 1 * (corr > 1*(get_volume(beta)-0.5))\n",
    "    return mdiff\n",
    "\n",
    "def minkowski_sum_and_diff(alpha, beta):\n",
    "    corr = get_norm_corr(alpha, beta)\n",
    "    msum = 1 * (corr > 0.0001*(get_volume(beta)-0.5))\n",
    "    mdiff = 1 * (corr > 1*(get_volume(beta)-0.5))\n",
    "    return msum, mdiff"
   ]
  },
  {
   "cell_type": "code",
   "execution_count": null,
   "metadata": {
    "collapsed": false
   },
   "outputs": [],
   "source": [
    "def read_rotation_samples(filename):\n",
    "    samples = np.loadtxt(filename)\n",
    "    return samples\n",
    "\n",
    "def get_rot_mat(angles):\n",
    "    phi, theta, psi = angles\n",
    "    cphi = cos(phi)\n",
    "    sphi = sin(phi)\n",
    "    ctheta = cos(theta)\n",
    "    stheta = sin(theta)\n",
    "    cpsi = cos(psi)\n",
    "    spsi = sin(psi)\n",
    "    rot = zeros([3, 3])\n",
    "    rot[0, :] = [cpsi*cphi-spsi*ctheta*sphi, -cpsi*sphi-spsi*ctheta*cphi, spsi*stheta]\n",
    "    rot[1, :] = [spsi*cphi+cpsi*ctheta*sphi, -spsi*sphi+cpsi*ctheta*cphi, -cpsi*stheta]\n",
    "    rot[2, :] = [stheta*sphi, stheta*cphi, ctheta]\n",
    "    return matrix(rot)\n",
    "\n",
    "def rotate(pts, rot_mat):\n",
    "    if pts.ndim == 1:\n",
    "        return squeeze(asarray(dot(rot_mat, pts)))\n",
    "    return array([squeeze(asarray(dot(rot_mat, point))) for point in pts])\n",
    "\n",
    "def rotate_voxel(voxel, rot_mat):\n",
    "    rVoxel = affine_transform(voxel, rot_mat)\n",
    "    rVoxel =  1 * (rVoxel > 0.1)\n",
    "    return rVoxel\n",
    "\n",
    "samples = read_rotation_samples('oim20.eul')\n",
    "print np.linalg.det(dot(get_rot_mat(samples[1]), get_rot_mat(samples[1])))\n",
    "print type(get_rot_mat(samples[1]))\n",
    "pts = array([[1, 2, 3],[1, 2, 3],[1, 2, 3],[1, 2, 3]])\n",
    "rot = get_rot_mat(samples[233])\n",
    "print rotate(pts, rot)"
   ]
  },
  {
   "cell_type": "code",
   "execution_count": null,
   "metadata": {
    "collapsed": false,
    "scrolled": false
   },
   "outputs": [],
   "source": [
    "input_files = ['data/testpart0.obj', 'data/testpart1.obj']\n",
    "\n",
    "binvox0 = input_files[0][:input_files[0].rfind('.')] + '.binvox'\n",
    "binvox1 = input_files[1][:input_files[1].rfind('.')] + '.binvox'\n",
    "\n",
    "if not os.path.isfile(binvox0):\n",
    "    subprocess.call('./binvox -d 64 ' + input_files[0], shell = True)\n",
    "if not os.path.isfile(binvox1):\n",
    "    subprocess.call('./binvox -d 64 ' + input_files[1], shell = True)"
   ]
  },
  {
   "cell_type": "code",
   "execution_count": null,
   "metadata": {
    "collapsed": false
   },
   "outputs": [],
   "source": [
    "alpha = read_voxel(binvox0)\n",
    "beta = read_voxel(binvox1)\n",
    "\n",
    "sza = array(alpha.shape)\n",
    "szb = array(beta.shape)\n",
    "\n",
    "szc = sza + szb\n",
    "\n",
    "dims = [int(pow(2, ceil(log(dim)/log(2)))) for dim in szc]\n",
    "\n",
    "alpha_pad = zeros(dims, dtype = 'f')\n",
    "beta_pad = zeros(dims, dtype = 'f')\n",
    "\n",
    "sid = (dims - sza)/2\n",
    "eid = sid + sza\n",
    "alpha_pad[sid[0]:eid[0], sid[1]:eid[1], sid[2]:eid[2]] = alpha\n",
    "\n",
    "sid = (dims - szb)/2\n",
    "eid = sid + szb\n",
    "beta_pad[sid[0]:eid[0], sid[1]:eid[1], sid[2]:eid[2]] = beta\n",
    "\n",
    "print alpha.shape, alpha_pad.shapes\n",
    "print beta.shape, beta_pad.shape"
   ]
  },
  {
   "cell_type": "code",
   "execution_count": null,
   "metadata": {
    "collapsed": false
   },
   "outputs": [],
   "source": [
    "msum, mdiff = minkowski_sum_and_diff(alpha_pad, beta_pad)\n",
    "\n",
    "print get_volume(msum), get_volume(mdiff)\n",
    "\n",
    "alpha_sf = mlab.pipeline.scalar_field(alpha_pad)\n",
    "mlab.pipeline.iso_surface(alpha_sf, contours = [1], color = (1, 0, 0), opacity = 0.5)\n",
    "\n",
    "beta_sf = mlab.pipeline.scalar_field(beta_pad)\n",
    "mlab.pipeline.iso_surface(beta_sf, contours = [1], color = (0, 0, 1), opacity = 1.0)\n",
    "\n",
    "msum_sf = mlab.pipeline.scalar_field(msum)\n",
    "mlab.pipeline.iso_surface(msum_sf, contours = [1], color = (1, 1, 0), opacity = 0.3)\n",
    "\n",
    "mdiff_sf = mlab.pipeline.scalar_field(mdiff)\n",
    "mlab.pipeline.iso_surface(mdiff_sf, contours = [1], color = (0, 1, 0), opacity = 0.3)\n",
    "\n",
    "mlab.show()"
   ]
  },
  {
   "cell_type": "code",
   "execution_count": null,
   "metadata": {
    "collapsed": true
   },
   "outputs": [],
   "source": []
  }
 ],
 "metadata": {
  "kernelspec": {
   "display_name": "Python 2",
   "language": "python",
   "name": "python2"
  },
  "language_info": {
   "codemirror_mode": {
    "name": "ipython",
    "version": 2
   },
   "file_extension": ".py",
   "mimetype": "text/x-python",
   "name": "python",
   "nbconvert_exporter": "python",
   "pygments_lexer": "ipython2",
   "version": "2.7.6"
  }
 },
 "nbformat": 4,
 "nbformat_minor": 0
}
